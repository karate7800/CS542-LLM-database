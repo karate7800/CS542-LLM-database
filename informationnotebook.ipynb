{
 "cells": [
  {
   "cell_type": "markdown",
   "metadata": {},
   "source": [
    "## Imports and setup"
   ]
  },
  {
   "cell_type": "code",
   "execution_count": 54,
   "metadata": {},
   "outputs": [],
   "source": [
    "from openai import OpenAI\n",
    "\n",
    "from tkinter import * \n",
    "from tkinter import ttk\n",
    "\n",
    "import sqlalchemy\n",
    "import os\n",
    "from tabulate import tabulate\n",
    "\n",
    "from dotenv import load_dotenv\n",
    "import os \n",
    "\n",
    "from sqlalchemy import create_engine, text,Column, Integer, String, Float, Date, ForeignKey\n",
    "from sqlalchemy.ext.declarative import declarative_base\n",
    "from sqlalchemy.orm import relationship\n"
   ]
  },
  {
   "cell_type": "code",
   "execution_count": null,
   "metadata": {},
   "outputs": [],
   "source": [
    "\n",
    "load_dotenv()\n",
    "\n",
    "oracle_connection_string = os.getenv('ORACLE_CONNECTION_STRING')\n",
    "\n",
    "if oracle_connection_string:\n",
    "    try:\n",
    "        engine = create_engine(oracle_connection_string)\n",
    "        connection = engine.connect()\n",
    "        print(\"Connected to Oracle database successfully!\")\n",
    "        connection.close()\n",
    "    except Exception as e:\n",
    "        print(\"Error:\", e)\n",
    "else:\n",
    "    print(\"Error: ORACLE_CONNECTION_STRING environment variable is not set.\")\n",
    " \n",
    "engine = create_engine(oracle_connection_string)\n",
    "connection = engine.connect()\n"
   ]
  },
  {
   "cell_type": "markdown",
   "metadata": {},
   "source": [
    "## LLM Helper Functions"
   ]
  },
  {
   "cell_type": "code",
   "execution_count": 57,
   "metadata": {},
   "outputs": [],
   "source": [
    "with open('primer.txt', 'r') as file:\n",
    "    primer = file.read()\n",
    "\n",
    "\n",
    "primobj = {'role':'system','content':primer}"
   ]
  },
  {
   "cell_type": "code",
   "execution_count": 58,
   "metadata": {},
   "outputs": [],
   "source": [
    "client = OpenAI()\n",
    "def convCompletion(completion):\n",
    "    return {'role':'assistant','content':completion.choices[0].message.content}\n",
    "def convQuery(query):\n",
    "    return {'role': 'user','content':query}\n",
    "\n",
    "# completion = client.chat.completions.create(\n",
    "#   model=\"gpt-3.5-turbo\",\n",
    "#   messages=[\n",
    "#     primobj,\n",
    "#     {\"role\": \"user\", \"content\": \"Compose a poem that explains the concept of recursion in programming.\"},\n",
    "#   ]\n",
    "# )\n",
    "\n",
    "def doConv(t=3):\n",
    "    msgs = [primobj]\n",
    "    for i in range(t):\n",
    "        a = input('Enter query')\n",
    "        query = convQuery(a)\n",
    "        msgs.append(query) \n",
    "        completion = client.chat.completions.create(\n",
    "          model=\"gpt-3.5-turbo\",\n",
    "          messages=msgs\n",
    "        )\n",
    "        print('user:',a)\n",
    "        print('bot:',completion.choices[0].message.content)\n",
    "        msgs.append(convCompletion(completion))\n",
    "\n",
    "\n",
    "def sendUserQuery(msg):\n",
    "    query = convQuery(msg)\n",
    "    msgs = [primobj, query]\n",
    "    msgs.append(query) \n",
    "    completion = client.chat.completions.create(\n",
    "        model=\"gpt-3.5-turbo\",\n",
    "        messages=msgs\n",
    "    )\n",
    "    return completion.choices[0].message.content\n",
    "    \n",
    "def executeQuery(msg):\n",
    "    print('user:',msg)\n",
    "    print('bot:',sendUserQuery(msg)) \n",
    "# doConv()\n",
    "        \n",
    "# executeQuery('find cheapest product at store name honey farms')\n",
    "# print(completion.choices[0].message.content)"
   ]
  },
  {
   "cell_type": "markdown",
   "metadata": {},
   "source": [
    "## UI Code"
   ]
  },
  {
   "cell_type": "code",
   "execution_count": 46,
   "metadata": {},
   "outputs": [],
   "source": [
    "def guiDoQuery(*args):\n",
    "    res = sendUserQuery(userquery.get())\n",
    "    print(res)\n",
    "    botresponse.set(res)\n",
    "\n",
    "def executeSQL(*args):\n",
    "    try:\n",
    "        runquery = connection.execute(text(sql.get()))\n",
    "        result = runquery.fetchall()\n",
    "        cols = runquery.keys()\n",
    "        runquery.close()\n",
    "\n",
    "        # print(type(cols))\n",
    "        table = [list(cols)]+result\n",
    "        temp = tabulate(table,headers='firstrow',tablefmt='fancy_grid')\n",
    "\n",
    "        sqlresponse.set(temp)\n",
    "    except Exception as e:\n",
    "        sqlresponse.set(f'error: {e}')\n",
    "        \n"
   ]
  },
  {
   "cell_type": "code",
   "execution_count": 53,
   "metadata": {},
   "outputs": [],
   "source": [
    "\n",
    "\n",
    "root = Tk()\n",
    "root.title(\"SQL LLM\")\n",
    "\n",
    "\n",
    "\n",
    "mainframe = ttk.Frame(root, padding=\"3 3 12 12\")\n",
    "mainframe.grid(column=0, row=0, sticky=(N, W, E, S))\n",
    "root.columnconfigure(0, weight=1)\n",
    "root.rowconfigure(0, weight=1)\n",
    "\n",
    "userquery = StringVar()\n",
    "userquery_entry = ttk.Entry(mainframe, width=10, textvariable=userquery)\n",
    "ttk.Label(mainframe, text='Enter query:').grid(column=1,row=1,sticky=(W))\n",
    "userquery_entry.grid(column=2, row=1, sticky=(W, E))\n",
    "ttk.Button(mainframe, text='Execute Query',command=guiDoQuery).grid(row=1,column=3)\n",
    "\n",
    "botresponse = StringVar()\n",
    "botresponse.set('hi')\n",
    "\n",
    "sql = StringVar() \n",
    "sql_entry = ttk.Entry(mainframe,width=20, textvariable=sql).grid(column=1,row=5)\n",
    "\n",
    "\n",
    "\n",
    "sqlresponse = StringVar()\n",
    "sqlresponse.set('Sample SqL response')\n",
    "responselabel = ttk.Label(mainframe,padding=('5 5 5 5'),relief=SOLID,borderwidth=1,textvariable=sqlresponse).grid(column=2,row=5,rowspan=2,columnspan=10,sticky=W)\n",
    "\n",
    "ttk.Label(mainframe,text='Bot Response').grid(column=10,row=1)\n",
    "ttk.Label(mainframe, textvariable=botresponse).grid(column=11, row=1, sticky=(W, E))\n",
    "# ttk.Label(mainframe, textvariable=botresponse).grid(column=3,row=2)\n",
    "# ttk.Button(mainframe, text=\"Calculate\", command=calculate).grid(column=3, row=3, sticky=W)\n",
    "\n",
    "\n",
    "ttk.Label(mainframe,text='SQL To Execute:').grid(column=1,row=3,sticky=W)\n",
    "ttk.Button(mainframe,text='Execute SQL',command=executeSQL).grid(column=2,row=3,sticky=W)\n",
    "for child in mainframe.winfo_children(): \n",
    "    child.grid_configure(padx=5, pady=5)\n",
    "\n",
    "userquery_entry.focus()\n",
    "\n",
    "\n",
    "\n",
    "testquery = [ ['name','id','test'],['sdf',3,'ewr'],['sdf',3,'ewr'],['sdf',3,'ewr'],]\n",
    "sqlresponse.set(tabulate(testquery,headers='firstrow',tablefmt='psql'))\n",
    "root.mainloop()"
   ]
  },
  {
   "cell_type": "markdown",
   "metadata": {},
   "source": [
    "## Testing SQL"
   ]
  },
  {
   "cell_type": "code",
   "execution_count": 6,
   "metadata": {},
   "outputs": [
    {
     "name": "stdout",
     "output_type": "stream",
     "text": [
      "Connected to Oracle database successfully!\n"
     ]
    }
   ],
   "source": [
    "\n",
    "load_dotenv()\n",
    "\n",
    "oracle_connection_string = os.getenv('ORACLE_CONNECTION_STRING')\n",
    "\n",
    "if oracle_connection_string:\n",
    "    try:\n",
    "        engine = create_engine(oracle_connection_string)\n",
    "        connection = engine.connect()\n",
    "        print(\"Connected to Oracle database successfully!\")\n",
    "        connection.close()\n",
    "    except Exception as e:\n",
    "        print(\"Error:\", e)\n",
    "else:\n",
    "    print(\"Error: ORACLE_CONNECTION_STRING environment variable is not set.\")\n",
    " \n",
    "engine = create_engine(oracle_connection_string)\n",
    "connection = engine.connect()\n",
    "\n",
    "# statement = text(\"SELECT * FROM members\" )\n"
   ]
  },
  {
   "cell_type": "code",
   "execution_count": 28,
   "metadata": {},
   "outputs": [
    {
     "name": "stdout",
     "output_type": "stream",
     "text": [
      "╒═══════╤════════════╤═════════════════╤═══════════════╕\n",
      "│   mid │ name       │ address         │   phonenumber │\n",
      "╞═══════╪════════════╪═════════════════╪═══════════════╡\n",
      "│     1 │ John Smith │ 123 Main Street │             1 │\n",
      "├───────┼────────────┼─────────────────┼───────────────┤\n",
      "│     2 │ Alice Lee  │ 456 Elm Avenue  │             1 │\n",
      "╘═══════╧════════════╧═════════════════╧═══════════════╛\n"
     ]
    }
   ],
   "source": [
    "runquery = connection.execute(text('SELECT * FROM MEMBERS'))\n",
    "result = runquery.fetchall()\n",
    "cols = runquery.keys()\n",
    "runquery.close()\n",
    "\n",
    "# print(type(cols))\n",
    "table = [list(cols)]+result\n",
    "\n",
    "print(tabulate(table,headers='firstrow',tablefmt='fancy_grid'))"
   ]
  },
  {
   "cell_type": "code",
   "execution_count": 13,
   "metadata": {},
   "outputs": [
    {
     "name": "stdout",
     "output_type": "stream",
     "text": [
      "['mid', 'name', 'address', 'phonenumber']\n"
     ]
    }
   ],
   "source": [
    "print(list(cols))\n"
   ]
  },
  {
   "cell_type": "markdown",
   "metadata": {},
   "source": [
    "## Testing Suite"
   ]
  },
  {
   "cell_type": "code",
   "execution_count": 61,
   "metadata": {},
   "outputs": [
    {
     "name": "stdout",
     "output_type": "stream",
     "text": [
      "╒══════════════════════════════════════════════════════╤══════════════════════════════════════════════════════════════════════╤══════════════╕\n",
      "│ User Query                                           │ Generated SQL                                                        │ Is Correct   │\n",
      "╞══════════════════════════════════════════════════════╪══════════════════════════════════════════════════════════════════════╪══════════════╡\n",
      "│ Get address of member 3                              │ SELECT address                                                       │ False        │\n",
      "│                                                      │ FROM Members                                                         │              │\n",
      "│                                                      │ WHERE mid = 3;                                                       │              │\n",
      "├──────────────────────────────────────────────────────┼──────────────────────────────────────────────────────────────────────┼──────────────┤\n",
      "│ find most expensive product?                         │ SELECT * FROM Products ORDER BY price DESC LIMIT 1;                  │ False        │\n",
      "├──────────────────────────────────────────────────────┼──────────────────────────────────────────────────────────────────────┼──────────────┤\n",
      "│ refund john's last purchase?                         │ To refund John's last purchase, you can use the following SQL query: │ False        │\n",
      "│                                                      │                                                                      │              │\n",
      "│                                                      │ ```sql                                                               │              │\n",
      "│                                                      │ UPDATE Transactions                                                  │              │\n",
      "│                                                      │ SET pdate = CURRENT_DATE                                             │              │\n",
      "│                                                      │ WHERE tid = (                                                        │              │\n",
      "│                                                      │     SELECT tid                                                       │              │\n",
      "│                                                      │     FROM Transactions                                                │              │\n",
      "│                                                      │     WHERE mid = (SELECT mid FROM Members WHERE name = 'John')        │              │\n",
      "│                                                      │     ORDER BY pdate DESC                                              │              │\n",
      "│                                                      │     LIMIT 1                                                          │              │\n",
      "│                                                      │ );                                                                   │              │\n",
      "│                                                      │ ```                                                                  │              │\n",
      "├──────────────────────────────────────────────────────┼──────────────────────────────────────────────────────────────────────┼──────────────┤\n",
      "│ what is the most frequently bought item?             │ SELECT pid, pname, category                                          │ False        │\n",
      "│                                                      │ FROM Products                                                        │              │\n",
      "│                                                      │ WHERE pid IN (                                                       │              │\n",
      "│                                                      │     SELECT pid                                                       │              │\n",
      "│                                                      │     FROM Transactions                                                │              │\n",
      "│                                                      │     GROUP BY pid                                                     │              │\n",
      "│                                                      │     ORDER BY COUNT(*) DESC                                           │              │\n",
      "│                                                      │     LIMIT 1                                                          │              │\n",
      "│                                                      │ );                                                                   │              │\n",
      "├──────────────────────────────────────────────────────┼──────────────────────────────────────────────────────────────────────┼──────────────┤\n",
      "│ what employees earn below X$ and should be promoted? │ SELECT *                                                             │ False        │\n",
      "│                                                      │ FROM Employees                                                       │              │\n",
      "│                                                      │ WHERE salary < X;                                                    │              │\n",
      "╘══════════════════════════════════════════════════════╧══════════════════════════════════════════════════════════════════════╧══════════════╛\n"
     ]
    }
   ],
   "source": [
    "file = open('userqueries.txt','r')\n",
    "\n",
    "restable=[['User Query','Generated SQL','Is Correct']]\n",
    "userqueries = [l for l in file]\n",
    "\n",
    "for i in range(len(userqueries)):\n",
    "    r = sendUserQuery(userqueries[i])\n",
    "    restable.append([userqueries[i],r,False])\n",
    "\n",
    "\n",
    "print(tabulate(restable,headers='firstrow',tablefmt='fancy_grid'))\n",
    "    \n",
    "\n"
   ]
  },
  {
   "cell_type": "code",
   "execution_count": null,
   "metadata": {},
   "outputs": [],
   "source": [
    "table = [['Modle','']]"
   ]
  }
 ],
 "metadata": {
  "kernelspec": {
   "display_name": "Python 3",
   "language": "python",
   "name": "python3"
  },
  "language_info": {
   "codemirror_mode": {
    "name": "ipython",
    "version": 3
   },
   "file_extension": ".py",
   "mimetype": "text/x-python",
   "name": "python",
   "nbconvert_exporter": "python",
   "pygments_lexer": "ipython3",
   "version": "3.10.12"
  }
 },
 "nbformat": 4,
 "nbformat_minor": 2
}
