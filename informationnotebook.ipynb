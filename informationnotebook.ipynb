{
 "cells": [
  {
   "cell_type": "markdown",
   "metadata": {},
   "source": [
    "## Imports and setup"
   ]
  },
  {
   "cell_type": "code",
   "execution_count": 2,
   "metadata": {},
   "outputs": [],
   "source": [
    "from openai import OpenAI\n",
    "\n",
    "from tkinter import * \n",
    "from tkinter import ttk\n",
    "\n",
    "import sqlalchemy\n",
    "import os\n",
    "from tabulate import tabulate\n",
    "\n",
    "from dotenv import load_dotenv\n",
    "import os \n",
    "\n",
    "from sqlalchemy import create_engine, text,Column, Integer, String, Float, Date, ForeignKey\n",
    "from sqlalchemy.ext.declarative import declarative_base\n",
    "from sqlalchemy.orm import relationship\n"
   ]
  },
  {
   "cell_type": "code",
   "execution_count": 3,
   "metadata": {},
   "outputs": [
    {
     "name": "stdout",
     "output_type": "stream",
     "text": [
      "Connected to Oracle database successfully!\n"
     ]
    }
   ],
   "source": [
    "\n",
    "load_dotenv()\n",
    "\n",
    "oracle_connection_string = os.getenv('ORACLE_CONNECTION_STRING')\n",
    "\n",
    "if oracle_connection_string:\n",
    "    try:\n",
    "        engine = create_engine(oracle_connection_string)\n",
    "        connection = engine.connect()\n",
    "        print(\"Connected to Oracle database successfully!\")\n",
    "        connection.close()\n",
    "    except Exception as e:\n",
    "        print(\"Error:\", e)\n",
    "else:\n",
    "    print(\"Error: ORACLE_CONNECTION_STRING environment variable is not set.\")\n",
    " \n",
    "engine = create_engine(oracle_connection_string)\n",
    "connection = engine.connect()\n"
   ]
  },
  {
   "cell_type": "markdown",
   "metadata": {},
   "source": [
    "## LLM Helper Functions"
   ]
  },
  {
   "cell_type": "code",
   "execution_count": 4,
   "metadata": {},
   "outputs": [],
   "source": [
    "with open('primer.txt', 'r') as file:\n",
    "    primer = file.read()\n",
    "\n",
    "\n",
    "primobj = {'role':'system','content':primer}"
   ]
  },
  {
   "cell_type": "code",
   "execution_count": 5,
   "metadata": {},
   "outputs": [],
   "source": [
    "client = OpenAI()\n",
    "def convCompletion(completion):\n",
    "    return {'role':'assistant','content':completion.choices[0].message.content}\n",
    "def convQuery(query):\n",
    "    return {'role': 'user','content':query}\n",
    "\n",
    "# completion = client.chat.completions.create(\n",
    "#   model=\"gpt-3.5-turbo\",\n",
    "#   messages=[\n",
    "#     primobj,\n",
    "#     {\"role\": \"user\", \"content\": \"Compose a poem that explains the concept of recursion in programming.\"},\n",
    "#   ]\n",
    "# )\n",
    "\n",
    "def doConv(t=3):\n",
    "    msgs = [primobj]\n",
    "    for i in range(t):\n",
    "        a = input('Enter query')\n",
    "        query = convQuery(a)\n",
    "        msgs.append(query) \n",
    "        completion = client.chat.completions.create(\n",
    "          model=\"gpt-3.5-turbo\",\n",
    "          messages=msgs\n",
    "        )\n",
    "        print('user:',a)\n",
    "        print('bot:',completion.choices[0].message.content)\n",
    "        msgs.append(convCompletion(completion))\n",
    "\n",
    "\n",
    "def sendUserQuery(msg):\n",
    "    query = convQuery(msg)\n",
    "    msgs = [primobj, query]\n",
    "    msgs.append(query) \n",
    "    completion = client.chat.completions.create(\n",
    "        model=\"gpt-3.5-turbo\",\n",
    "        messages=msgs\n",
    "    )\n",
    "    return completion.choices[0].message.content\n",
    "    \n",
    "def executeQuery(msg):\n",
    "    print('user:',msg)\n",
    "    print('bot:',sendUserQuery(msg)) \n",
    "# doConv()\n",
    "        \n",
    "# executeQuery('find cheapest product at store name honey farms')\n",
    "# print(completion.choices[0].message.content)"
   ]
  },
  {
   "cell_type": "markdown",
   "metadata": {},
   "source": [
    "## UI Code"
   ]
  },
  {
   "cell_type": "code",
   "execution_count": 6,
   "metadata": {},
   "outputs": [],
   "source": [
    "def guiDoQuery(*args):\n",
    "    res = sendUserQuery(userquery.get())\n",
    "    print(res)\n",
    "    botresponse.set(res)\n",
    "\n",
    "def executeSQL(*args):\n",
    "    try:\n",
    "        runquery = connection.execute(text(sql.get()))\n",
    "        result = runquery.fetchall()\n",
    "        cols = runquery.keys()\n",
    "        runquery.close()\n",
    "\n",
    "        # print(type(cols))\n",
    "        table = [list(cols)]+result\n",
    "        temp = tabulate(table,headers='firstrow',tablefmt='fancy_grid')\n",
    "\n",
    "        sqlresponse.set(temp)\n",
    "    except Exception as e:\n",
    "        sqlresponse.set(f'error: {e}')\n",
    "        \n"
   ]
  },
  {
   "cell_type": "code",
   "execution_count": 7,
   "metadata": {},
   "outputs": [
    {
     "name": "stdout",
     "output_type": "stream",
     "text": [
      "SELECT * \n",
      "FROM Transactions \n",
      "WHERE mid = 1\n"
     ]
    }
   ],
   "source": [
    "\n",
    "\n",
    "root = Tk()\n",
    "root.title(\"SQL LLM\")\n",
    "\n",
    "\n",
    "\n",
    "mainframe = ttk.Frame(root, padding=\"3 3 12 12\")\n",
    "mainframe.grid(column=0, row=0, sticky=(N, W, E, S))\n",
    "root.columnconfigure(0, weight=1)\n",
    "root.rowconfigure(0, weight=1)\n",
    "\n",
    "userquery = StringVar()\n",
    "userquery_entry = ttk.Entry(mainframe, width=10, textvariable=userquery)\n",
    "ttk.Label(mainframe, text='Enter query:').grid(column=1,row=1,sticky=(W))\n",
    "userquery_entry.grid(column=2, row=1, sticky=(W, E))\n",
    "ttk.Button(mainframe, text='Execute Query',command=guiDoQuery).grid(row=1,column=3)\n",
    "\n",
    "botresponse = StringVar()\n",
    "botresponse.set('hi')\n",
    "\n",
    "sql = StringVar() \n",
    "sql_entry = ttk.Entry(mainframe,width=20, textvariable=sql).grid(column=1,row=5)\n",
    "\n",
    "\n",
    "\n",
    "sqlresponse = StringVar()\n",
    "sqlresponse.set('Sample SqL response')\n",
    "responselabel = ttk.Label(mainframe,padding=('5 5 5 5'),relief=SOLID,borderwidth=1,textvariable=sqlresponse).grid(column=2,row=5,rowspan=2,columnspan=10,sticky=W)\n",
    "\n",
    "ttk.Label(mainframe,text='Bot Response').grid(column=10,row=1)\n",
    "ttk.Label(mainframe, textvariable=botresponse).grid(column=11, row=1, sticky=(W, E))\n",
    "# ttk.Label(mainframe, textvariable=botresponse).grid(column=3,row=2)\n",
    "# ttk.Button(mainframe, text=\"Calculate\", command=calculate).grid(column=3, row=3, sticky=W)\n",
    "\n",
    "\n",
    "ttk.Label(mainframe,text='SQL To Execute:').grid(column=1,row=3,sticky=W)\n",
    "ttk.Button(mainframe,text='Execute SQL',command=executeSQL).grid(column=2,row=3,sticky=W)\n",
    "for child in mainframe.winfo_children(): \n",
    "    child.grid_configure(padx=5, pady=5)\n",
    "\n",
    "userquery_entry.focus()\n",
    "\n",
    "\n",
    "\n",
    "testquery = [ ['name','id','test'],['sdf',3,'ewr'],['sdf',3,'ewr'],['sdf',3,'ewr'],]\n",
    "sqlresponse.set(tabulate(testquery,headers='firstrow',tablefmt='psql'))\n",
    "root.mainloop()"
   ]
  },
  {
   "cell_type": "markdown",
   "metadata": {},
   "source": [
    "## Testing SQL"
   ]
  },
  {
   "cell_type": "code",
   "execution_count": 6,
   "metadata": {},
   "outputs": [
    {
     "name": "stdout",
     "output_type": "stream",
     "text": [
      "Connected to Oracle database successfully!\n"
     ]
    }
   ],
   "source": [
    "\n",
    "load_dotenv()\n",
    "\n",
    "oracle_connection_string = os.getenv('ORACLE_CONNECTION_STRING')\n",
    "\n",
    "if oracle_connection_string:\n",
    "    try:\n",
    "        engine = create_engine(oracle_connection_string)\n",
    "        connection = engine.connect()\n",
    "        print(\"Connected to Oracle database successfully!\")\n",
    "        connection.close()\n",
    "    except Exception as e:\n",
    "        print(\"Error:\", e)\n",
    "else:\n",
    "    print(\"Error: ORACLE_CONNECTION_STRING environment variable is not set.\")\n",
    " \n",
    "engine = create_engine(oracle_connection_string)\n",
    "connection = engine.connect()\n",
    "\n",
    "# statement = text(\"SELECT * FROM members\" )\n"
   ]
  },
  {
   "cell_type": "code",
   "execution_count": 28,
   "metadata": {},
   "outputs": [
    {
     "name": "stdout",
     "output_type": "stream",
     "text": [
      "╒═══════╤════════════╤═════════════════╤═══════════════╕\n",
      "│   mid │ name       │ address         │   phonenumber │\n",
      "╞═══════╪════════════╪═════════════════╪═══════════════╡\n",
      "│     1 │ John Smith │ 123 Main Street │             1 │\n",
      "├───────┼────────────┼─────────────────┼───────────────┤\n",
      "│     2 │ Alice Lee  │ 456 Elm Avenue  │             1 │\n",
      "╘═══════╧════════════╧═════════════════╧═══════════════╛\n"
     ]
    }
   ],
   "source": [
    "runquery = connection.execute(text('SELECT * FROM MEMBERS'))\n",
    "result = runquery.fetchall()\n",
    "cols = runquery.keys()\n",
    "runquery.close()\n",
    "\n",
    "# print(type(cols))\n",
    "table = [list(cols)]+result\n",
    "\n",
    "print(tabulate(table,headers='firstrow',tablefmt='fancy_grid'))"
   ]
  },
  {
   "cell_type": "code",
   "execution_count": 13,
   "metadata": {},
   "outputs": [
    {
     "name": "stdout",
     "output_type": "stream",
     "text": [
      "['mid', 'name', 'address', 'phonenumber']\n"
     ]
    }
   ],
   "source": [
    "print(list(cols))\n"
   ]
  },
  {
   "cell_type": "markdown",
   "metadata": {},
   "source": [
    "## Testing Suite"
   ]
  },
  {
   "cell_type": "code",
   "execution_count": 43,
   "metadata": {},
   "outputs": [
    {
     "name": "stdout",
     "output_type": "stream",
     "text": [
      "(cx_Oracle.DatabaseError) ORA-00907: missing right parenthesis\n",
      "[SQL: SELECT p.name FROM Products p JOIN (SELECT pid \tFROM Discounts \tORDER BY newPrice / price DESC \tLIMIT 1) d ON p.pid = d.pid JOIN Produces pr ON p.pid = pr.pid JOIN Producers prd ON pr.prID = prd.prID]\n",
      "(Background on this error at: https://sqlalche.me/e/20/4xp6)\n",
      "(cx_Oracle.DatabaseError) ORA-00907: missing right parenthesis\n",
      "[SQL: SELECT AVG(E.salary) FROM Employees E WHERE E.storeID =      (SELECT T1.sid     FROM          (SELECT T.sid, COUNT(T.tid) AS num_transactions         FROM Transactions T         WHERE T.pdate BETWEEN '2024-03-01' AND '2024-03-31'         GROUP BY T.sid         ORDER BY num_transactions DESC         LIMIT 1) AS T1     )]\n",
      "(Background on this error at: https://sqlalche.me/e/20/4xp6)\n",
      "(cx_Oracle.DatabaseError) ORA-30089: missing or invalid <datetime field>\n",
      "[SQL: SELECT Members.phonenumber FROM Members JOIN Transactions ON Members.mid = Transactions.mid WHERE Transactions.pdate < CURRENT_DATE - INTERVAL '3 days']\n",
      "(Background on this error at: https://sqlalche.me/e/20/4xp6)\n",
      "(cx_Oracle.DatabaseError) ORA-00907: missing right parenthesis\n",
      "[SQL: SELECT s.sid, s.name, SUM(p.price * p.quantity) AS total_sales_revenue FROM Stores s JOIN Transactions t ON s.sid = t.sid JOIN Products p ON p.pid = t.pid WHERE t.pdate >= DATE_ADD(LAST_DAY(DATE_SUB(NOW(), INTERVAL 3 MONTH)), INTERVAL 1 DAY) GROUP BY s.sid, s.name]\n",
      "(Background on this error at: https://sqlalche.me/e/20/4xp6)\n",
      "╒═════════════════════════╤══════════════════════════════════════════════════════════════════════════════════════════════════════════════════════════════════════════════════════════════════════════════════════════════════════════════════════════════════════════════════════════════════════════════════════════════════════════════════════════════════════════╤══════════════╕\n",
      "│ User Query              │ Generated SQL                                                                                                                                                                                                                                                                                                                            │ Is Correct   │\n",
      "╞═════════════════════════╪══════════════════════════════════════════════════════════════════════════════════════════════════════════════════════════════════════════════════════════════════════════════════════════════════════════════════════════════════════════════════════════════════════════════════════════════════════════════════════════════════════════╪══════════════╡\n",
      "│ Give me the addresse... │ SELECT location FROM Stores                                                                                                                                                                                                                                                                                                              │ True         │\n",
      "├─────────────────────────┼──────────────────────────────────────────────────────────────────────────────────────────────────────────────────────────────────────────────────────────────────────────────────────────────────────────────────────────────────────────────────────────────────────────────────────────────────────────────────────────────────────────┼──────────────┤\n",
      "│ Give me the names al... │ SELECT name, location FROM Producers                                                                                                                                                                                                                                                                                                     │ True         │\n",
      "├─────────────────────────┼──────────────────────────────────────────────────────────────────────────────────────────────────────────────────────────────────────────────────────────────────────────────────────────────────────────────────────────────────────────────────────────────────────────────────────────────────────────────────────────────────────────┼──────────────┤\n",
      "│ Show the names of pr... │ SELECT pname FROM Products WHERE category = 'groceries'                                                                                                                                                                                                                                                                                  │ False        │\n",
      "├─────────────────────────┼──────────────────────────────────────────────────────────────────────────────────────────────────────────────────────────────────────────────────────────────────────────────────────────────────────────────────────────────────────────────────────────────────────────────────────────────────────────────────────────────────────────┼──────────────┤\n",
      "│ Show the number of c... │ SELECT COUNT(mid)  FROM Transactions WHERE sid = 1                                                                                                                                                                                                                                                                                       │ False        │\n",
      "├─────────────────────────┼──────────────────────────────────────────────────────────────────────────────────────────────────────────────────────────────────────────────────────────────────────────────────────────────────────────────────────────────────────────────────────────────────────────────────────────────────────────────────────────────────────────┼──────────────┤\n",
      "│ Show the number of c... │ SELECT COUNT(tid) FROM Transactions                                                                                                                                                                                                                                                                                                      │ False        │\n",
      "├─────────────────────────┼──────────────────────────────────────────────────────────────────────────────────────────────────────────────────────────────────────────────────────────────────────────────────────────────────────────────────────────────────────────────────────────────────────────────────────────────────────────────────────────────────────────┼──────────────┤\n",
      "│ Display the employee... │ SELECT name  FROM Employees  WHERE salary = (SELECT MAX(salary) FROM Employees)                                                                                                                                                                                                                                                          │ True         │\n",
      "├─────────────────────────┼──────────────────────────────────────────────────────────────────────────────────────────────────────────────────────────────────────────────────────────────────────────────────────────────────────────────────────────────────────────────────────────────────────────────────────────────────────────────────────────────────────────┼──────────────┤\n",
      "│ Display the ids and ... │ SELECT pid, pname FROM Products WHERE quantity < 50                                                                                                                                                                                                                                                                                      │ True         │\n",
      "├─────────────────────────┼──────────────────────────────────────────────────────────────────────────────────────────────────────────────────────────────────────────────────────────────────────────────────────────────────────────────────────────────────────────────────────────────────────────────────────────────────────────────────────────────────────────┼──────────────┤\n",
      "│ Display the number o... │ SELECT COUNT(DISTINCT category) FROM Products                                                                                                                                                                                                                                                                                            │ False        │\n",
      "├─────────────────────────┼──────────────────────────────────────────────────────────────────────────────────────────────────────────────────────────────────────────────────────────────────────────────────────────────────────────────────────────────────────────────────────────────────────────────────────────────────────────────────────────────────────────┼──────────────┤\n",
      "│ Provide the address ... │ SELECT address FROM Members WHERE address LIKE '%Elm%'                                                                                                                                                                                                                                                                                   │ True         │\n",
      "├─────────────────────────┼──────────────────────────────────────────────────────────────────────────────────────────────────────────────────────────────────────────────────────────────────────────────────────────────────────────────────────────────────────────────────────────────────────────────────────────────────────────────────────────────────────────┼──────────────┤\n",
      "│ Provide the opening ... │ SELECT openTime, closeTime FROM StoreHours WHERE sid = 1                                                                                                                                                                                                                                                                                 │ True         │\n",
      "├─────────────────────────┼──────────────────────────────────────────────────────────────────────────────────────────────────────────────────────────────────────────────────────────────────────────────────────────────────────────────────────────────────────────────────────────────────────────────────────────────────────────────────────────────────────────┼──────────────┤\n",
      "│ Show the name of the... │ SELECT p.name FROM Products p JOIN (SELECT pid \tFROM Discounts \tORDER BY newPrice / price DESC \tLIMIT 1) d ON p.pid = d.pid JOIN Produces pr ON p.pid = pr.pid JOIN Producers prd ON pr.prID = prd.prID                                                                                                                                                                                                                                                                                                                                          │ Error        │\n",
      "├─────────────────────────┼──────────────────────────────────────────────────────────────────────────────────────────────────────────────────────────────────────────────────────────────────────────────────────────────────────────────────────────────────────────────────────────────────────────────────────────────────────────────────────────────────────────┼──────────────┤\n",
      "│ Show the total price... │ SELECT Members.name, SUM(Products.price * Products.quantity) AS total_price FROM Members JOIN Transactions ON Members.mid = Transactions.mid JOIN Products ON Transactions.tid = Products.pid GROUP BY Members.name                                                                                                                      │ False        │\n",
      "├─────────────────────────┼──────────────────────────────────────────────────────────────────────────────────────────────────────────────────────────────────────────────────────────────────────────────────────────────────────────────────────────────────────────────────────────────────────────────────────────────────────────────────────────────────────────┼──────────────┤\n",
      "│ Show the names of pr... │ SELECT pname FROM Products JOIN Discounts ON Products.pid = Discounts.pid WHERE ((price - newPrice) / price) > 0.10                                                                                                                                                                                                                      │ True         │\n",
      "├─────────────────────────┼──────────────────────────────────────────────────────────────────────────────────────────────────────────────────────────────────────────────────────────────────────────────────────────────────────────────────────────────────────────────────────────────────────────────────────────────────────────────────────────────────────────┼──────────────┤\n",
      "│ Count the total pric... │ SELECT SUM(p.price * p.quantity)  FROM Products p  JOIN Produces pr ON p.pid = pr.pid  JOIN Producers prd ON pr.prID = prd.prID  WHERE prd.name = 'Farm Fresh'                                                                                                                                                                           │ False        │\n",
      "├─────────────────────────┼──────────────────────────────────────────────────────────────────────────────────────────────────────────────────────────────────────────────────────────────────────────────────────────────────────────────────────────────────────────────────────────────────────────────────────────────────────────────────────────────────────────┼──────────────┤\n",
      "│ Provide the address ... │ SELECT m.address, e.eid FROM Members m, StoreHours sh, Employees e WHERE sh.sid = e.storeID AND sh.openTime = (SELECT MAX(sh2.openTime) FROM StoreHours sh2 WHERE sh2.day = 1)                                                                                                                                                           │ False        │\n",
      "├─────────────────────────┼──────────────────────────────────────────────────────────────────────────────────────────────────────────────────────────────────────────────────────────────────────────────────────────────────────────────────────────────────────────────────────────────────────────────────────────────────────────────────────────────────────────┼──────────────┤\n",
      "│ Provide the informat... │ SELECT * FROM Products WHERE pid IN (     SELECT pid     FROM Produces     WHERE prID = (SELECT prID FROM Producers WHERE name = 'Tech Innovate') ) AND price < 600                                                                                                                                                                      │ True         │\n",
      "├─────────────────────────┼──────────────────────────────────────────────────────────────────────────────────────────────────────────────────────────────────────────────────────────────────────────────────────────────────────────────────────────────────────────────────────────────────────────────────────────────────────────────────────────────────────────┼──────────────┤\n",
      "│ Give me the avg sala... │ SELECT AVG(E.salary) FROM Employees E WHERE E.storeID =      (SELECT T1.sid     FROM          (SELECT T.sid, COUNT(T.tid) AS num_transactions         FROM Transactions T         WHERE T.pdate BETWEEN '2024-03-01' AND '2024-03-31'         GROUP BY T.sid         ORDER BY num_transactions DESC         LIMIT 1) AS T1     )         │ Error        │\n",
      "├─────────────────────────┼──────────────────────────────────────────────────────────────────────────────────────────────────────────────────────────────────────────────────────────────────────────────────────────────────────────────────────────────────────────────────────────────────────────────────────────────────────────────────────────────────────────┼──────────────┤\n",
      "│ Give me the contacts... │ SELECT Members.phonenumber FROM Members JOIN Transactions ON Members.mid = Transactions.mid WHERE Transactions.pdate < CURRENT_DATE - INTERVAL '3 days'                                                                                                                                                                                  │ Error        │\n",
      "├─────────────────────────┼──────────────────────────────────────────────────────────────────────────────────────────────────────────────────────────────────────────────────────────────────────────────────────────────────────────────────────────────────────────────────────────────────────────────────────────────────────────────────────────────────────────┼──────────────┤\n",
      "│ Display the total sa... │ SELECT s.sid, s.name, SUM(p.price * p.quantity) AS total_sales_revenue FROM Stores s JOIN Transactions t ON s.sid = t.sid JOIN Products p ON p.pid = t.pid WHERE t.pdate >= DATE_ADD(LAST_DAY(DATE_SUB(NOW(), INTERVAL 3 MONTH)), INTERVAL 1 DAY) GROUP BY s.sid, s.name                                                                 │ Error        │\n",
      "├─────────────────────────┼──────────────────────────────────────────────────────────────────────────────────────────────────────────────────────────────────────────────────────────────────────────────────────────────────────────────────────────────────────────────────────────────────────────────────────────────────────────────────────────────────────────┼──────────────┤\n",
      "│ Display the names an... │ SELECT m.name, m.address FROM Members m WHERE m.mid IN (     SELECT t.mid     FROM Transactions t     WHERE EXTRACT(MONTH FROM t.pdate) = EXTRACT(MONTH FROM CURRENT_DATE - INTERVAL '1' MONTH) ) AND m.mid NOT IN (     SELECT t.mid     FROM Transactions t     WHERE EXTRACT(MONTH FROM t.pdate) = EXTRACT(MONTH FROM CURRENT_DATE) ) │ False        │\n",
      "╘═════════════════════════╧══════════════════════════════════════════════════════════════════════════════════════════════════════════════════════════════════════════════════════════════════════════════════════════════════════════════════════════════════════════════════════════════════════════════════════════════════════════════════════════════════════════╧══════════════╛\n"
     ]
    }
   ],
   "source": [
    "def compSQL(predicted,sql2):\n",
    "    real = connection.execute(text(sql2))\n",
    "    res2 = real.fetchall()\n",
    "    cols2 = real.keys()\n",
    "    real.close()\n",
    "    \n",
    "\n",
    "    try:\n",
    "        predicted = connection.execute(text(predicted))\n",
    "        res1 = predicted.fetchall()\n",
    "        cols1 = predicted.keys()\n",
    "        predicted.close()\n",
    "    except Exception as e:\n",
    "        print(e)\n",
    "        return 'Error'\n",
    "    \n",
    "    return cols1 == cols2 and res1 == res2\n",
    "    \n",
    "\n",
    "\n",
    "file = open('userqueries.txt','r')\n",
    "restable=[['User Query','Generated SQL','Is Correct']]\n",
    "userqueries = [l for l in file]\n",
    "\n",
    "realqueries = extract_queries_from_file('test_queries.sql')\n",
    "\n",
    "\n",
    "for i in range(len(userqueries)):\n",
    "    r = sendUserQuery(userqueries[i])\n",
    "    r = r.replace(';','')\n",
    "    r = r.replace('\\n',' ')\n",
    "    restable.append([userqueries[i][:20] +'...' if len(userqueries[i])>20 else '',r,compSQL(r,realqueries[i])])\n",
    "\n",
    "\n",
    "print(tabulate(restable,headers='firstrow',tablefmt='fancy_grid'))\n",
    "    \n",
    "\n"
   ]
  },
  {
   "cell_type": "code",
   "execution_count": 31,
   "metadata": {},
   "outputs": [
    {
     "name": "stdout",
     "output_type": "stream",
     "text": [
      "['SELECT location\\nFROM stores', 'SELECT name, location\\nFROM producers', \"SELECT pname\\nFROM products\\nWHERE category = 'Groceries'\", 'SELECT COUNT(DISTINCT mid) AS num_customers\\nFROM transactions\\nWHERE sid = 1', 'SELECT COUNT(*) AS num_completed\\nFROM transactions', 'SELECT name\\nFROM employees\\nORDER BY salary DESC\\nFETCH FIRST 1 ROW ONLY', 'SELECT pid, pname\\nFROM products\\nWHERE quantity < 50', 'SELECT COUNT(DISTINCT category) AS num_categories\\nFROM products', \"SELECT address\\nFROM members\\nWHERE address LIKE '%Elm%'\", 'SELECT openTime, closeTime\\nFROM storehours\\nWHERE sid = 1', 'SELECT pr.name AS manufacturer_name\\nFROM producers pr\\nJOIN produces p ON pr.prID = p.prID\\nJOIN products pro ON pro.pid = p.pid\\nJOIN discounts d ON pro.pid = d.pid\\nORDER BY d.newprice / pro.price DESC\\nFETCH FIRST 1 ROW ONLY', 'SELECT m.name AS customer_name, SUM(p.quantity * pr.price) AS total_price\\nFROM members m\\nJOIN transactions t ON m.mid = t.mid\\nJOIN purchases p ON t.tid = p.tid\\nJOIN products pr ON p.pid = pr.pid\\nGROUP BY m.name', 'SELECT pname\\nFROM products pr\\nJOIN discounts d ON pr.pid = d.pid\\nWHERE (pr.price - d.newprice) / pr.price > 0.1', \"SELECT SUM(p.price * p.quantity) AS total_price\\nFROM products p\\nJOIN produces pr ON p.pID = pr.pID\\nJOIN producers pro ON pr.prID = pro.prID\\nWHERE pro.name = 'Farm Fresh'\", 'SELECT s.location, e.eid\\nFROM storehours sh\\nJOIN stores s ON sh.sid = s.sid\\nJOIN employees e ON s.sid = e.storeID\\nWHERE sh.day = 1\\nORDER BY closeTime - openTime DESC\\nFETCH FIRST 1 ROW ONLY', \"SELECT p.*\\nFROM products p\\nJOIN produces pr ON pr.pID = p.pID\\nJOIN producers pro ON pro.prID = pr.prID\\nWHERE pro.name = 'Tech Innovate'\\nAND p.price < 600\", 'SELECT AVG(e.salary) AS avg_salary\\nFROM employees e\\nJOIN stores s ON e.storeID = s.sid\\nJOIN transactions t ON s.sid = t.sid\\nWHERE EXTRACT(MONTH FROM t.pdate) = 3 AND EXTRACT(YEAR FROM t.pdate) = 2024\\nGROUP BY e.storeID\\nORDER BY COUNT(t.tid) DESC\\nFETCH FIRST 1 ROW ONLY', \"SELECT m.name, m.phonenumber\\nFROM members m\\nJOIN transactions t ON m.mid = t.mid\\nJOIN purchases p ON t.tid = p.tid\\nWHERE p.status = 'pending' AND t.pdate < SYSDATE - INTERVAL '3' DAY\", 'SELECT t.sid AS StoreID, s.name AS StoreName, \\n       SUM(pr.price * p.quantity) AS TotalRevenue\\nFROM transactions t\\nJOIN purchases p ON t.tid = p.tid\\nJOIN products pr ON p.pid = pr.pid\\nJOIN stores s ON t.sid = s.sid\\nWHERE EXTRACT(MONTH FROM t.pdate) = 3\\nGROUP BY t.sid, s.name', \"SELECT DISTINCT(m.name) AS customer_name, m.address\\nFROM members m\\nJOIN transactions t ON m.mid = t.mid\\nWHERE t.pdate >= TRUNC(SYSDATE, 'MM') - INTERVAL '1' MONTH AND t.pdate < TRUNC(SYSDATE, 'MM')\\nAND m.mid NOT IN (\\n\\tSELECT m.mid\\n\\tFROM members m\\n\\tJOIN transactions t ON m.mid = t.mid\\n\\tWHERE t.pdate >= TRUNC(SYSDATE, 'MM')\\n)\"]\n",
      "20\n",
      "SELECT pr.name AS manufacturer_name\n",
      "FROM producers pr\n",
      "JOIN produces p ON pr.prID = p.prID\n",
      "JOIN products pro ON pro.pid = p.pid\n",
      "JOIN discounts d ON pro.pid = d.pid\n",
      "ORDER BY d.newprice / pro.price DESC\n",
      "FETCH FIRST 1 ROW ONLY\n",
      "0 [('789 Oak Street',), ('321 Pine Road',)]\n",
      "1 [('Farm Fresh', '123 Farm Rd'), ('Tech Innovate', '456 Tech Blvd')]\n",
      "2 [('Bread',), ('Milk',)]\n",
      "3 [(2,)]\n",
      "4 [(4,)]\n",
      "5 [('Michael Brown',)]\n",
      "6 [(5, 'Laptop'), (7, 'Sunglasses'), (8, 'Desk Lamp'), (9, 'Backpack'), (10, 'Running Shoes'), (11, 'Coffee Maker')]\n",
      "7 [(10,)]\n",
      "8 [('456 Elm Avenue',)]\n",
      "9 [(datetime.datetime(2024, 3, 1, 9, 0), datetime.datetime(2024, 3, 1, 18, 0)), (datetime.datetime(2024, 3, 1, 9, 30), datetime.datetime(2024, 3, 1, 17, 30))]\n",
      "10 [('Tech Innovate',)]\n",
      "11 [('John Smith', 20), ('Alice Lee', 1500)]\n",
      "12 [('Bread',)]\n",
      "13 [(250,)]\n",
      "14 [('789 Oak Street', 101)]\n",
      "15 [(2, 'Smartphone', 'Electronics', 500.0, 50)]\n",
      "16 [(3000,)]\n",
      "17 [('Alice Lee', '1')]\n",
      "18 [(1, 'SuperMart', 1000), (2, 'MegaStore', 500)]\n",
      "19 [('John Smith', '123 Main Street')]\n"
     ]
    }
   ],
   "source": [
    "import re\n",
    "\n",
    "queries = ''\n",
    "def extract_queries_from_file(file_path):\n",
    "    with open(file_path, 'r') as file:\n",
    "        sql_content = file.read()\n",
    "\n",
    "    # Split SQL content into individual queries\n",
    "    # queries = re.split(r';\\s*\\n(?![\\s\\w]*SELECT)', sql_content)\n",
    "    queries = sql_content.split(';')\n",
    "    queries = [query.strip() for query in queries if query.strip()]\n",
    "\n",
    "    # Remove empty or whitespace-only queries\n",
    "    # queries = [query.strip() for query in queries if query.strip()]\n",
    "\n",
    "    return queries\n",
    "\n",
    "queries = extract_queries_from_file('test_queries.sql')\n",
    "\n",
    "print(queries)\n",
    "print(len(queries))\n",
    "print(queries[10])\n",
    "connection = engine.connect()\n",
    "\n",
    "for i in range(len(queries)):\n",
    "    real = connection.execute(text(queries[i]))\n",
    "    print(i,real.fetchall())\n",
    "    real.close()"
   ]
  },
  {
   "cell_type": "code",
   "execution_count": null,
   "metadata": {},
   "outputs": [],
   "source": [
    " "
   ]
  }
 ],
 "metadata": {
  "kernelspec": {
   "display_name": "Python 3",
   "language": "python",
   "name": "python3"
  },
  "language_info": {
   "codemirror_mode": {
    "name": "ipython",
    "version": 3
   },
   "file_extension": ".py",
   "mimetype": "text/x-python",
   "name": "python",
   "nbconvert_exporter": "python",
   "pygments_lexer": "ipython3",
   "version": "3.10.12"
  }
 },
 "nbformat": 4,
 "nbformat_minor": 2
}
